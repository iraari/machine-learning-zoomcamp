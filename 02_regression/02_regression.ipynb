{
 "cells": [
  {
   "cell_type": "code",
   "execution_count": 1,
   "id": "cfd6100f-8175-4265-8f12-13f6d300dc93",
   "metadata": {},
   "outputs": [],
   "source": [
    "import numpy as np\n",
    "import pandas as pd"
   ]
  },
  {
   "cell_type": "code",
   "execution_count": 2,
   "id": "c0eb8a31-56bb-4842-b783-709281000f5e",
   "metadata": {},
   "outputs": [],
   "source": [
    "df = pd.read_csv('../01_intro/laptops.csv')"
   ]
  },
  {
   "cell_type": "code",
   "execution_count": 3,
   "id": "15251ed9-7bc8-4078-b497-a251dc949621",
   "metadata": {},
   "outputs": [
    {
     "data": {
      "text/html": [
       "<div>\n",
       "<style scoped>\n",
       "    .dataframe tbody tr th:only-of-type {\n",
       "        vertical-align: middle;\n",
       "    }\n",
       "\n",
       "    .dataframe tbody tr th {\n",
       "        vertical-align: top;\n",
       "    }\n",
       "\n",
       "    .dataframe thead th {\n",
       "        text-align: right;\n",
       "    }\n",
       "</style>\n",
       "<table border=\"1\" class=\"dataframe\">\n",
       "  <thead>\n",
       "    <tr style=\"text-align: right;\">\n",
       "      <th></th>\n",
       "      <th>Laptop</th>\n",
       "      <th>Status</th>\n",
       "      <th>Brand</th>\n",
       "      <th>Model</th>\n",
       "      <th>CPU</th>\n",
       "      <th>RAM</th>\n",
       "      <th>Storage</th>\n",
       "      <th>Storage type</th>\n",
       "      <th>GPU</th>\n",
       "      <th>Screen</th>\n",
       "      <th>Touch</th>\n",
       "      <th>Final Price</th>\n",
       "    </tr>\n",
       "  </thead>\n",
       "  <tbody>\n",
       "    <tr>\n",
       "      <th>0</th>\n",
       "      <td>ASUS ExpertBook B1 B1502CBA-EJ0436X Intel Core...</td>\n",
       "      <td>New</td>\n",
       "      <td>Asus</td>\n",
       "      <td>ExpertBook</td>\n",
       "      <td>Intel Core i5</td>\n",
       "      <td>8</td>\n",
       "      <td>512</td>\n",
       "      <td>SSD</td>\n",
       "      <td>NaN</td>\n",
       "      <td>15.6</td>\n",
       "      <td>No</td>\n",
       "      <td>1009.00</td>\n",
       "    </tr>\n",
       "    <tr>\n",
       "      <th>1</th>\n",
       "      <td>Alurin Go Start Intel Celeron N4020/8GB/256GB ...</td>\n",
       "      <td>New</td>\n",
       "      <td>Alurin</td>\n",
       "      <td>Go</td>\n",
       "      <td>Intel Celeron</td>\n",
       "      <td>8</td>\n",
       "      <td>256</td>\n",
       "      <td>SSD</td>\n",
       "      <td>NaN</td>\n",
       "      <td>15.6</td>\n",
       "      <td>No</td>\n",
       "      <td>299.00</td>\n",
       "    </tr>\n",
       "    <tr>\n",
       "      <th>2</th>\n",
       "      <td>ASUS ExpertBook B1 B1502CBA-EJ0424X Intel Core...</td>\n",
       "      <td>New</td>\n",
       "      <td>Asus</td>\n",
       "      <td>ExpertBook</td>\n",
       "      <td>Intel Core i3</td>\n",
       "      <td>8</td>\n",
       "      <td>256</td>\n",
       "      <td>SSD</td>\n",
       "      <td>NaN</td>\n",
       "      <td>15.6</td>\n",
       "      <td>No</td>\n",
       "      <td>789.00</td>\n",
       "    </tr>\n",
       "    <tr>\n",
       "      <th>3</th>\n",
       "      <td>MSI Katana GF66 12UC-082XES Intel Core i7-1270...</td>\n",
       "      <td>New</td>\n",
       "      <td>MSI</td>\n",
       "      <td>Katana</td>\n",
       "      <td>Intel Core i7</td>\n",
       "      <td>16</td>\n",
       "      <td>1000</td>\n",
       "      <td>SSD</td>\n",
       "      <td>RTX 3050</td>\n",
       "      <td>15.6</td>\n",
       "      <td>No</td>\n",
       "      <td>1199.00</td>\n",
       "    </tr>\n",
       "    <tr>\n",
       "      <th>4</th>\n",
       "      <td>HP 15S-FQ5085NS Intel Core i5-1235U/16GB/512GB...</td>\n",
       "      <td>New</td>\n",
       "      <td>HP</td>\n",
       "      <td>15S</td>\n",
       "      <td>Intel Core i5</td>\n",
       "      <td>16</td>\n",
       "      <td>512</td>\n",
       "      <td>SSD</td>\n",
       "      <td>NaN</td>\n",
       "      <td>15.6</td>\n",
       "      <td>No</td>\n",
       "      <td>669.01</td>\n",
       "    </tr>\n",
       "  </tbody>\n",
       "</table>\n",
       "</div>"
      ],
      "text/plain": [
       "                                              Laptop Status   Brand  \\\n",
       "0  ASUS ExpertBook B1 B1502CBA-EJ0436X Intel Core...    New    Asus   \n",
       "1  Alurin Go Start Intel Celeron N4020/8GB/256GB ...    New  Alurin   \n",
       "2  ASUS ExpertBook B1 B1502CBA-EJ0424X Intel Core...    New    Asus   \n",
       "3  MSI Katana GF66 12UC-082XES Intel Core i7-1270...    New     MSI   \n",
       "4  HP 15S-FQ5085NS Intel Core i5-1235U/16GB/512GB...    New      HP   \n",
       "\n",
       "        Model            CPU  RAM  Storage Storage type       GPU  Screen  \\\n",
       "0  ExpertBook  Intel Core i5    8      512          SSD       NaN    15.6   \n",
       "1          Go  Intel Celeron    8      256          SSD       NaN    15.6   \n",
       "2  ExpertBook  Intel Core i3    8      256          SSD       NaN    15.6   \n",
       "3      Katana  Intel Core i7   16     1000          SSD  RTX 3050    15.6   \n",
       "4         15S  Intel Core i5   16      512          SSD       NaN    15.6   \n",
       "\n",
       "  Touch  Final Price  \n",
       "0    No      1009.00  \n",
       "1    No       299.00  \n",
       "2    No       789.00  \n",
       "3    No      1199.00  \n",
       "4    No       669.01  "
      ]
     },
     "execution_count": 3,
     "metadata": {},
     "output_type": "execute_result"
    }
   ],
   "source": [
    "df.head()"
   ]
  },
  {
   "cell_type": "code",
   "execution_count": 4,
   "id": "15c9cf3f-0615-47b1-8000-3a33798fb9e6",
   "metadata": {},
   "outputs": [],
   "source": [
    "df.columns = df.columns.str.lower().str.replace(' ', '_')"
   ]
  },
  {
   "cell_type": "code",
   "execution_count": 5,
   "id": "38a2ccad-2468-4102-be9a-b734b73a1b72",
   "metadata": {},
   "outputs": [],
   "source": [
    "df = df[['ram', 'storage', 'screen', 'final_price']]"
   ]
  },
  {
   "cell_type": "code",
   "execution_count": 6,
   "id": "a8ea8a08-8279-4ba6-b3ca-b5c3dca53657",
   "metadata": {},
   "outputs": [
    {
     "data": {
      "text/html": [
       "<div>\n",
       "<style scoped>\n",
       "    .dataframe tbody tr th:only-of-type {\n",
       "        vertical-align: middle;\n",
       "    }\n",
       "\n",
       "    .dataframe tbody tr th {\n",
       "        vertical-align: top;\n",
       "    }\n",
       "\n",
       "    .dataframe thead th {\n",
       "        text-align: right;\n",
       "    }\n",
       "</style>\n",
       "<table border=\"1\" class=\"dataframe\">\n",
       "  <thead>\n",
       "    <tr style=\"text-align: right;\">\n",
       "      <th></th>\n",
       "      <th>ram</th>\n",
       "      <th>storage</th>\n",
       "      <th>screen</th>\n",
       "      <th>final_price</th>\n",
       "    </tr>\n",
       "  </thead>\n",
       "  <tbody>\n",
       "    <tr>\n",
       "      <th>0</th>\n",
       "      <td>8</td>\n",
       "      <td>512</td>\n",
       "      <td>15.6</td>\n",
       "      <td>1009.00</td>\n",
       "    </tr>\n",
       "    <tr>\n",
       "      <th>1</th>\n",
       "      <td>8</td>\n",
       "      <td>256</td>\n",
       "      <td>15.6</td>\n",
       "      <td>299.00</td>\n",
       "    </tr>\n",
       "    <tr>\n",
       "      <th>2</th>\n",
       "      <td>8</td>\n",
       "      <td>256</td>\n",
       "      <td>15.6</td>\n",
       "      <td>789.00</td>\n",
       "    </tr>\n",
       "    <tr>\n",
       "      <th>3</th>\n",
       "      <td>16</td>\n",
       "      <td>1000</td>\n",
       "      <td>15.6</td>\n",
       "      <td>1199.00</td>\n",
       "    </tr>\n",
       "    <tr>\n",
       "      <th>4</th>\n",
       "      <td>16</td>\n",
       "      <td>512</td>\n",
       "      <td>15.6</td>\n",
       "      <td>669.01</td>\n",
       "    </tr>\n",
       "  </tbody>\n",
       "</table>\n",
       "</div>"
      ],
      "text/plain": [
       "   ram  storage  screen  final_price\n",
       "0    8      512    15.6      1009.00\n",
       "1    8      256    15.6       299.00\n",
       "2    8      256    15.6       789.00\n",
       "3   16     1000    15.6      1199.00\n",
       "4   16      512    15.6       669.01"
      ]
     },
     "execution_count": 6,
     "metadata": {},
     "output_type": "execute_result"
    }
   ],
   "source": [
    "df.head()"
   ]
  },
  {
   "cell_type": "code",
   "execution_count": 7,
   "id": "2c385f08-d31f-4c55-960f-24af79645a78",
   "metadata": {},
   "outputs": [],
   "source": [
    "import matplotlib.pyplot as plt\n",
    "import seaborn as sns\n",
    "\n",
    "%matplotlib inline"
   ]
  },
  {
   "cell_type": "code",
   "execution_count": 8,
   "id": "4eb57419-2592-48f6-9d40-8fa846a24ee0",
   "metadata": {},
   "outputs": [
    {
     "data": {
      "text/plain": [
       "<Axes: xlabel='final_price', ylabel='Count'>"
      ]
     },
     "execution_count": 8,
     "metadata": {},
     "output_type": "execute_result"
    },
    {
     "data": {
      "image/png": "[encoded data removed]",
      "text/plain": [
       "<Figure size 640x480 with 1 Axes>"
      ]
     },
     "metadata": {},
     "output_type": "display_data"
    }
   ],
   "source": [
    "sns.histplot(df.final_price) #, bins=50)"
   ]
  },
  {
   "cell_type": "code",
   "execution_count": 9,
   "id": "bbfaae5a-5f74-40b8-a87c-a21b069e7996",
   "metadata": {},
   "outputs": [
    {
     "data": {
      "text/plain": [
       "ram            0\n",
       "storage        0\n",
       "screen         4\n",
       "final_price    0\n",
       "dtype: int64"
      ]
     },
     "execution_count": 9,
     "metadata": {},
     "output_type": "execute_result"
    }
   ],
   "source": [
    "# Question 1\n",
    "# There's one column with missing values. What is it?\n",
    "\n",
    "df.isnull().sum()"
   ]
  },
  {
   "cell_type": "code",
   "execution_count": 10,
   "id": "3906177e-c042-4e21-ad75-d9e3d17a98f9",
   "metadata": {},
   "outputs": [],
   "source": [
    "# Question 2\n",
    "# What's the median (50% percentile) for variable 'ram'?\n",
    "\n",
    "p = np.percentile(df.ram, 50) "
   ]
  },
  {
   "cell_type": "code",
   "execution_count": 11,
   "id": "fc8f2c40-7d97-4741-8f9c-6eb510dd8155",
   "metadata": {},
   "outputs": [
    {
     "data": {
      "text/plain": [
       "16.0"
      ]
     },
     "execution_count": 11,
     "metadata": {},
     "output_type": "execute_result"
    }
   ],
   "source": [
    "p"
   ]
  },
  {
   "cell_type": "markdown",
   "id": "64602a0c-da7d-4ad2-b9ef-1507da2296a3",
   "metadata": {},
   "source": [
    "Prepare and split the dataset\n",
    "Shuffle the dataset (the filtered one you created above), use seed 42.\n",
    "Split your data in train/val/test sets, with 60%/20%/20% distribution.\n",
    "Use the same code as in the lectures"
   ]
  },
  {
   "cell_type": "code",
   "execution_count": 12,
   "id": "118e70a8-4a06-4d2c-aa76-83f4bb7df346",
   "metadata": {},
   "outputs": [],
   "source": [
    "n = len(df)\n",
    "\n",
    "n_val = int(n * 0.2)\n",
    "n_test = int(n * 0.2)\n",
    "n_train = n - n_val - n_test"
   ]
  },
  {
   "cell_type": "code",
   "execution_count": 13,
   "id": "38b7c2b8-f2f0-44b1-b753-5cd5e633d75e",
   "metadata": {},
   "outputs": [
    {
     "data": {
      "text/plain": [
       "(2160, 432, 432, 1296)"
      ]
     },
     "execution_count": 13,
     "metadata": {},
     "output_type": "execute_result"
    }
   ],
   "source": [
    "n, n_val, n_test, n_train"
   ]
  },
  {
   "cell_type": "code",
   "execution_count": 14,
   "id": "f1cd704d-8d7b-4228-bf08-5b6689080912",
   "metadata": {},
   "outputs": [
    {
     "data": {
      "text/plain": [
       "2160"
      ]
     },
     "execution_count": 14,
     "metadata": {},
     "output_type": "execute_result"
    }
   ],
   "source": [
    "n_val + n_test + n_train"
   ]
  },
  {
   "cell_type": "code",
   "execution_count": 15,
   "id": "0ff9f921-02d9-4c39-99f7-92629a5aafbf",
   "metadata": {},
   "outputs": [],
   "source": [
    "idx = np.arange(n)"
   ]
  },
  {
   "cell_type": "code",
   "execution_count": 16,
   "id": "e2b3b3c0-38e7-4415-b890-63bd3b3db215",
   "metadata": {},
   "outputs": [
    {
     "data": {
      "text/plain": [
       "array([   0,    1,    2, ..., 2157, 2158, 2159])"
      ]
     },
     "execution_count": 16,
     "metadata": {},
     "output_type": "execute_result"
    }
   ],
   "source": [
    "idx"
   ]
  },
  {
   "cell_type": "code",
   "execution_count": 17,
   "id": "87878371-fe3c-4074-adb1-3e1f88c599ca",
   "metadata": {},
   "outputs": [],
   "source": [
    "np.random.seed(42)\n",
    "np.random.shuffle(idx)"
   ]
  },
  {
   "cell_type": "code",
   "execution_count": 18,
   "id": "b1f9366d-aac2-4a8a-bcc0-46ff91fb4261",
   "metadata": {},
   "outputs": [
    {
     "data": {
      "text/plain": [
       "array([2079,  668, 2073, ..., 1130, 1294,  860])"
      ]
     },
     "execution_count": 18,
     "metadata": {},
     "output_type": "execute_result"
    }
   ],
   "source": [
    "idx"
   ]
  },
  {
   "cell_type": "code",
   "execution_count": 77,
   "id": "7bc0b484-6ded-44a2-8d41-eae7ce28dcac",
   "metadata": {},
   "outputs": [],
   "source": [
    "df_train = df.iloc[idx[:n_train]]\n",
    "df_val = df.iloc[idx[n_train:n_train+n_val]]\n",
    "df_test = df.iloc[idx[n_train+n_val:]]"
   ]
  },
  {
   "cell_type": "code",
   "execution_count": 78,
   "id": "3bb09e92-7f55-4f9f-8f1a-5a53edb04b2e",
   "metadata": {},
   "outputs": [
    {
     "data": {
      "text/html": [
       "<div>\n",
       "<style scoped>\n",
       "    .dataframe tbody tr th:only-of-type {\n",
       "        vertical-align: middle;\n",
       "    }\n",
       "\n",
       "    .dataframe tbody tr th {\n",
       "        vertical-align: top;\n",
       "    }\n",
       "\n",
       "    .dataframe thead th {\n",
       "        text-align: right;\n",
       "    }\n",
       "</style>\n",
       "<table border=\"1\" class=\"dataframe\">\n",
       "  <thead>\n",
       "    <tr style=\"text-align: right;\">\n",
       "      <th></th>\n",
       "      <th>ram</th>\n",
       "      <th>storage</th>\n",
       "      <th>screen</th>\n",
       "      <th>final_price</th>\n",
       "    </tr>\n",
       "  </thead>\n",
       "  <tbody>\n",
       "    <tr>\n",
       "      <th>2079</th>\n",
       "      <td>32</td>\n",
       "      <td>1000</td>\n",
       "      <td>15.6</td>\n",
       "      <td>1123.29</td>\n",
       "    </tr>\n",
       "    <tr>\n",
       "      <th>668</th>\n",
       "      <td>4</td>\n",
       "      <td>64</td>\n",
       "      <td>14.1</td>\n",
       "      <td>201.05</td>\n",
       "    </tr>\n",
       "    <tr>\n",
       "      <th>2073</th>\n",
       "      <td>32</td>\n",
       "      <td>1000</td>\n",
       "      <td>14.0</td>\n",
       "      <td>997.74</td>\n",
       "    </tr>\n",
       "    <tr>\n",
       "      <th>1113</th>\n",
       "      <td>16</td>\n",
       "      <td>512</td>\n",
       "      <td>13.3</td>\n",
       "      <td>1016.00</td>\n",
       "    </tr>\n",
       "    <tr>\n",
       "      <th>788</th>\n",
       "      <td>32</td>\n",
       "      <td>1000</td>\n",
       "      <td>16.0</td>\n",
       "      <td>2739.00</td>\n",
       "    </tr>\n",
       "  </tbody>\n",
       "</table>\n",
       "</div>"
      ],
      "text/plain": [
       "      ram  storage  screen  final_price\n",
       "2079   32     1000    15.6      1123.29\n",
       "668     4       64    14.1       201.05\n",
       "2073   32     1000    14.0       997.74\n",
       "1113   16      512    13.3      1016.00\n",
       "788    32     1000    16.0      2739.00"
      ]
     },
     "execution_count": 78,
     "metadata": {},
     "output_type": "execute_result"
    }
   ],
   "source": [
    "df_train.head()"
   ]
  },
  {
   "cell_type": "code",
   "execution_count": 79,
   "id": "6c58f452-bbd1-46e0-9b1d-a3119d321b14",
   "metadata": {},
   "outputs": [],
   "source": [
    "df_train = df_train.reset_index(drop=True)\n",
    "df_val = df_val.reset_index(drop=True)\n",
    "df_test = df_test.reset_index(drop=True)"
   ]
  },
  {
   "cell_type": "code",
   "execution_count": 80,
   "id": "a5648172-bdf4-4540-8faa-314866d16740",
   "metadata": {},
   "outputs": [
    {
     "data": {
      "text/html": [
       "<div>\n",
       "<style scoped>\n",
       "    .dataframe tbody tr th:only-of-type {\n",
       "        vertical-align: middle;\n",
       "    }\n",
       "\n",
       "    .dataframe tbody tr th {\n",
       "        vertical-align: top;\n",
       "    }\n",
       "\n",
       "    .dataframe thead th {\n",
       "        text-align: right;\n",
       "    }\n",
       "</style>\n",
       "<table border=\"1\" class=\"dataframe\">\n",
       "  <thead>\n",
       "    <tr style=\"text-align: right;\">\n",
       "      <th></th>\n",
       "      <th>ram</th>\n",
       "      <th>storage</th>\n",
       "      <th>screen</th>\n",
       "      <th>final_price</th>\n",
       "    </tr>\n",
       "  </thead>\n",
       "  <tbody>\n",
       "    <tr>\n",
       "      <th>0</th>\n",
       "      <td>32</td>\n",
       "      <td>1000</td>\n",
       "      <td>15.6</td>\n",
       "      <td>1123.29</td>\n",
       "    </tr>\n",
       "    <tr>\n",
       "      <th>1</th>\n",
       "      <td>4</td>\n",
       "      <td>64</td>\n",
       "      <td>14.1</td>\n",
       "      <td>201.05</td>\n",
       "    </tr>\n",
       "    <tr>\n",
       "      <th>2</th>\n",
       "      <td>32</td>\n",
       "      <td>1000</td>\n",
       "      <td>14.0</td>\n",
       "      <td>997.74</td>\n",
       "    </tr>\n",
       "    <tr>\n",
       "      <th>3</th>\n",
       "      <td>16</td>\n",
       "      <td>512</td>\n",
       "      <td>13.3</td>\n",
       "      <td>1016.00</td>\n",
       "    </tr>\n",
       "    <tr>\n",
       "      <th>4</th>\n",
       "      <td>32</td>\n",
       "      <td>1000</td>\n",
       "      <td>16.0</td>\n",
       "      <td>2739.00</td>\n",
       "    </tr>\n",
       "  </tbody>\n",
       "</table>\n",
       "</div>"
      ],
      "text/plain": [
       "   ram  storage  screen  final_price\n",
       "0   32     1000    15.6      1123.29\n",
       "1    4       64    14.1       201.05\n",
       "2   32     1000    14.0       997.74\n",
       "3   16      512    13.3      1016.00\n",
       "4   32     1000    16.0      2739.00"
      ]
     },
     "execution_count": 80,
     "metadata": {},
     "output_type": "execute_result"
    }
   ],
   "source": [
    "df_train.head()"
   ]
  },
  {
   "cell_type": "markdown",
   "id": "b22e1192-881f-4bef-8057-06d69046418c",
   "metadata": {},
   "source": [
    "Question 3\n",
    "* We need to deal with missing values for the column from Q1.\n",
    "* We have two options: fill it with 0 or with the mean of this variable.\n",
    "* Try both options. For each, train a linear regression model without regularization using the code from the lessons.\n",
    "* For computing the mean, use the training only!\n",
    "* Use the validation dataset to evaluate the models and compare the RMSE of each option.\n",
    "* Round the RMSE scores to 2 decimal digits using round(score, 2)\n",
    "* Which option gives better RMSE?\n",
    "\n",
    "Options:\n",
    "\n",
    "* With 0\n",
    "* With mean\n",
    "* Both are equally good"
   ]
  },
  {
   "cell_type": "code",
   "execution_count": 81,
   "id": "87f156c6-a5c8-4e37-af35-f9bc9c5629fd",
   "metadata": {},
   "outputs": [],
   "source": [
    "# Option 1\n",
    "df_train_1 = df_train.copy()"
   ]
  },
  {
   "cell_type": "code",
   "execution_count": 25,
   "id": "d1301cb8-1b97-488c-9730-9f02e763fc91",
   "metadata": {},
   "outputs": [],
   "source": [
    "df_train_1.screen = df_train_1.screen.fillna(0)"
   ]
  },
  {
   "cell_type": "code",
   "execution_count": 27,
   "id": "6d03dc61-49c3-46b8-90ab-2f52d3541829",
   "metadata": {},
   "outputs": [],
   "source": [
    "def train_linear_regression(X, y):\n",
    "    ones = np.ones(X.shape[0])\n",
    "    X = np.column_stack([ones, X])\n",
    "\n",
    "    XTX = X.T.dot(X)\n",
    "    XTX_inv = np.linalg.inv(XTX)\n",
    "    w_full = XTX_inv.dot(X.T).dot(y)\n",
    "    \n",
    "    return w_full[0], w_full[1:]"
   ]
  },
  {
   "cell_type": "code",
   "execution_count": 28,
   "id": "cfde7d24-f448-49eb-87e7-59aa132846e2",
   "metadata": {},
   "outputs": [],
   "source": [
    "base = ['ram', 'storage', 'screen']\n",
    "\n",
    "X_train_1 = df_train_1[base].values\n",
    "y_train_1 = df_train_1.final_price.values\n",
    "\n",
    "w0_1, w_1 = train_linear_regression(X_train_1, y_train_1)\n",
    "\n",
    "y_pred_1 = w0_1 + X_train_1.dot(w_1)"
   ]
  },
  {
   "cell_type": "code",
   "execution_count": 29,
   "id": "81616230-6eb2-43b9-b09a-feb44337bfc2",
   "metadata": {},
   "outputs": [
    {
     "data": {
      "text/plain": [
       "(676.8954853003689, array([ 43.70681555,   0.86506867, -36.10399833]))"
      ]
     },
     "execution_count": 29,
     "metadata": {},
     "output_type": "execute_result"
    }
   ],
   "source": [
    "w0_1, w_1"
   ]
  },
  {
   "cell_type": "code",
   "execution_count": 31,
   "id": "b1b48441-84bd-41a3-87a8-fd7ba3196335",
   "metadata": {},
   "outputs": [
    {
     "data": {
      "text/plain": [
       "<Axes: ylabel='Count'>"
      ]
     },
     "execution_count": 31,
     "metadata": {},
     "output_type": "execute_result"
    },
    {
     "data": {
      "image/png": "[encoded data removed]",
      "text/plain": [
       "<Figure size 640x480 with 1 Axes>"
      ]
     },
     "metadata": {},
     "output_type": "display_data"
    }
   ],
   "source": [
    "sns.histplot(y_pred_1, color='red', alpha=0.5, bins=50)\n",
    "sns.histplot(y_train_1, color='blue', alpha=0.5, bins=50)"
   ]
  },
  {
   "cell_type": "code",
   "execution_count": 32,
   "id": "0230eef5-de55-46b6-9e11-2e2f073ab8fc",
   "metadata": {},
   "outputs": [],
   "source": [
    "def rmse(y, y_pred):\n",
    "    se = (y - y_pred) ** 2\n",
    "    mse = se.mean()\n",
    "    return np.sqrt(mse)"
   ]
  },
  {
   "cell_type": "code",
   "execution_count": 33,
   "id": "0fdaae66-b32b-457c-a2dc-4baef1b002d8",
   "metadata": {},
   "outputs": [],
   "source": [
    "df_val_1 = df_val.copy()"
   ]
  },
  {
   "cell_type": "code",
   "execution_count": 34,
   "id": "7f90193e-97cc-480c-b3f0-f7e778525ae0",
   "metadata": {},
   "outputs": [
    {
     "data": {
      "text/plain": [
       "ram            0\n",
       "storage        0\n",
       "screen         1\n",
       "final_price    0\n",
       "dtype: int64"
      ]
     },
     "execution_count": 34,
     "metadata": {},
     "output_type": "execute_result"
    }
   ],
   "source": [
    "df_val_1.isnull().sum()"
   ]
  },
  {
   "cell_type": "code",
   "execution_count": 35,
   "id": "57a1f9a4-1308-4d6d-b73d-7e520bc49756",
   "metadata": {},
   "outputs": [],
   "source": [
    "df_val_1.screen = df_val_1.screen.fillna(0)"
   ]
  },
  {
   "cell_type": "code",
   "execution_count": 36,
   "id": "4be91bb2-d3cf-4cac-9d46-3a32fd0895e9",
   "metadata": {},
   "outputs": [
    {
     "data": {
      "text/plain": [
       "597.3635593619622"
      ]
     },
     "execution_count": 36,
     "metadata": {},
     "output_type": "execute_result"
    }
   ],
   "source": [
    "X_val_1 = df_val_1[base].values\n",
    "y_val_1 = df_val_1.final_price.values\n",
    "\n",
    "y_pred_1 = w0_1 + X_val_1.dot(w_1)\n",
    "rmse(y_val_1, y_pred_1)"
   ]
  },
  {
   "cell_type": "code",
   "execution_count": 37,
   "id": "30746141-5b7f-4a49-a9ab-55b1f724def8",
   "metadata": {},
   "outputs": [
    {
     "name": "stdout",
     "output_type": "stream",
     "text": [
      "The result = 597.36 when NaN filled with 0\n"
     ]
    }
   ],
   "source": [
    "print(\"The result = {} when NaN filled with 0\".format(round(rmse(y_val_1, y_pred_1), 2)))"
   ]
  },
  {
   "cell_type": "code",
   "execution_count": 48,
   "id": "fd414b33-a388-4e63-aa29-83f56891624a",
   "metadata": {},
   "outputs": [],
   "source": [
    "# Option 2\n",
    "df_train_2 = df_train.copy()"
   ]
  },
  {
   "cell_type": "code",
   "execution_count": 49,
   "id": "bfad4d82-bab0-4f62-b54e-519e65ca0e31",
   "metadata": {},
   "outputs": [
    {
     "data": {
      "text/plain": [
       "ram            0\n",
       "storage        0\n",
       "screen         3\n",
       "final_price    0\n",
       "dtype: int64"
      ]
     },
     "execution_count": 49,
     "metadata": {},
     "output_type": "execute_result"
    }
   ],
   "source": [
    "df_train_2.isnull().sum()"
   ]
  },
  {
   "cell_type": "code",
   "execution_count": 50,
   "id": "ed811827-4275-4dbb-aad7-5b511d2bc004",
   "metadata": {},
   "outputs": [],
   "source": [
    "train_screen_mean = df_train_2.screen.mean()\n",
    "df_train_2.screen = df_train_2.screen.fillna(train_screen_mean)"
   ]
  },
  {
   "cell_type": "code",
   "execution_count": 51,
   "id": "cfd21160-0935-47d0-9d91-b1508a6077e2",
   "metadata": {},
   "outputs": [
    {
     "data": {
      "text/plain": [
       "ram            0\n",
       "storage        0\n",
       "screen         0\n",
       "final_price    0\n",
       "dtype: int64"
      ]
     },
     "execution_count": 51,
     "metadata": {},
     "output_type": "execute_result"
    }
   ],
   "source": [
    "df_train_2.isnull().sum()"
   ]
  },
  {
   "cell_type": "code",
   "execution_count": 52,
   "id": "3ffbcf64-3c1c-413c-bbf5-c3b1f3b26c63",
   "metadata": {},
   "outputs": [],
   "source": [
    "X_train_2 = df_train_2[base].values\n",
    "y_train_2 = df_train_2.final_price.values\n",
    "\n",
    "w0_2, w_2 = train_linear_regression(X_train_2, y_train_2)\n",
    "\n",
    "y_pred_2 = w0_2 + X_train_2.dot(w_2)"
   ]
  },
  {
   "cell_type": "code",
   "execution_count": 53,
   "id": "f26549b4-db97-422d-b254-af341f543cc6",
   "metadata": {},
   "outputs": [
    {
     "data": {
      "text/plain": [
       "(808.915990733356, array([ 43.90774584,   0.87135236, -45.18273312]))"
      ]
     },
     "execution_count": 53,
     "metadata": {},
     "output_type": "execute_result"
    }
   ],
   "source": [
    "w0_2, w_2"
   ]
  },
  {
   "cell_type": "code",
   "execution_count": 54,
   "id": "16ddecb5-b154-412b-89fc-aabcdced1654",
   "metadata": {},
   "outputs": [
    {
     "data": {
      "text/plain": [
       "<Axes: ylabel='Count'>"
      ]
     },
     "execution_count": 54,
     "metadata": {},
     "output_type": "execute_result"
    },
    {
     "data": {
      "image/png": "[encoded data removed]",
      "text/plain": [
       "<Figure size 640x480 with 1 Axes>"
      ]
     },
     "metadata": {},
     "output_type": "display_data"
    }
   ],
   "source": [
    "sns.histplot(y_pred_2, color='red', alpha=0.5, bins=50)\n",
    "sns.histplot(y_train_2, color='blue', alpha=0.5, bins=50)"
   ]
  },
  {
   "cell_type": "code",
   "execution_count": 55,
   "id": "839a9e3b-e51f-48db-861c-b0ca077e5425",
   "metadata": {},
   "outputs": [],
   "source": [
    "df_val_2 = df_val.copy()"
   ]
  },
  {
   "cell_type": "code",
   "execution_count": 56,
   "id": "5f25b42e-9f46-4c52-aae0-f086049264c7",
   "metadata": {},
   "outputs": [
    {
     "data": {
      "text/plain": [
       "ram            0\n",
       "storage        0\n",
       "screen         1\n",
       "final_price    0\n",
       "dtype: int64"
      ]
     },
     "execution_count": 56,
     "metadata": {},
     "output_type": "execute_result"
    }
   ],
   "source": [
    "df_val_2.isnull().sum()"
   ]
  },
  {
   "cell_type": "code",
   "execution_count": 57,
   "id": "31c34824-c98a-4911-b7e6-0d7b4330cc0d",
   "metadata": {},
   "outputs": [],
   "source": [
    "df_val_2.screen = df_val_2.screen.fillna(train_screen_mean)"
   ]
  },
  {
   "cell_type": "code",
   "execution_count": 58,
   "id": "02830d09-a9b8-4e36-8f96-a00e7e5de032",
   "metadata": {},
   "outputs": [
    {
     "data": {
      "text/plain": [
       "ram            0\n",
       "storage        0\n",
       "screen         0\n",
       "final_price    0\n",
       "dtype: int64"
      ]
     },
     "execution_count": 58,
     "metadata": {},
     "output_type": "execute_result"
    }
   ],
   "source": [
    "df_val_2.isnull().sum()"
   ]
  },
  {
   "cell_type": "code",
   "execution_count": 59,
   "id": "7ff4ba9e-6555-4e71-95a4-0b0bddeaf114",
   "metadata": {},
   "outputs": [
    {
     "data": {
      "text/plain": [
       "600.2650313748433"
      ]
     },
     "execution_count": 59,
     "metadata": {},
     "output_type": "execute_result"
    }
   ],
   "source": [
    "X_val_2 = df_val_2[base].values\n",
    "y_val_2 = df_val_2.final_price.values\n",
    "\n",
    "y_pred_2 = w0_2 + X_val_2.dot(w_2)\n",
    "rmse(y_val_2, y_pred_2)"
   ]
  },
  {
   "cell_type": "code",
   "execution_count": 60,
   "id": "afa599cd-4d2e-4b2b-83e6-7ecc57c13ae7",
   "metadata": {},
   "outputs": [
    {
     "name": "stdout",
     "output_type": "stream",
     "text": [
      "The result = 600.27 when NaN filled with mean\n"
     ]
    }
   ],
   "source": [
    "print(\"The result = {} when NaN filled with mean\".format(round(rmse(y_val_2, y_pred_2), 2)))"
   ]
  },
  {
   "cell_type": "markdown",
   "id": "1efedd93-2aef-4372-8de2-bcc1c567120b",
   "metadata": {},
   "source": [
    "Answer: filled with 0 gives better RMSE"
   ]
  },
  {
   "cell_type": "markdown",
   "id": "20f8756e-8960-4fef-921e-f452e8f0f3c8",
   "metadata": {},
   "source": [
    "Question 4\n",
    "* Now let's train a regularized linear regression.\n",
    "* For this question, fill the NAs with 0.\n",
    "* Try different values of r from this list: [0, 0.01, 0.1, 1, 5, 10, 100].\n",
    "* Use RMSE to evaluate the model on the validation dataset.\n",
    "* Round the RMSE scores to 2 decimal digits.\n",
    "* Which r gives the best RMSE?\n",
    "\n",
    "If there are multiple options, select the smallest r."
   ]
  },
  {
   "cell_type": "code",
   "execution_count": 73,
   "id": "3acd69c1-d446-4621-be84-39dfb1968c39",
   "metadata": {},
   "outputs": [],
   "source": [
    "def train_linear_regression_reg(X, y, r=0.001):\n",
    "    ones = np.ones(X.shape[0])\n",
    "    X = np.column_stack([ones, X])\n",
    "\n",
    "    XTX = X.T.dot(X)\n",
    "    XTX = XTX + r * np.eye(XTX.shape[0])\n",
    "\n",
    "    XTX_inv = np.linalg.inv(XTX)\n",
    "    w_full = XTX_inv.dot(X.T).dot(y)\n",
    "    \n",
    "    return w_full[0], w_full[1:]"
   ]
  },
  {
   "cell_type": "code",
   "execution_count": 84,
   "id": "d801dcd7-228e-48d9-ab97-f9fdd6325ec0",
   "metadata": {},
   "outputs": [],
   "source": [
    "df_train_4 = df_train.copy()\n",
    "df_val_4 = df_val.copy()"
   ]
  },
  {
   "cell_type": "code",
   "execution_count": 85,
   "id": "aef1464d-a26e-4fc1-bc28-e2a9d7bb9bad",
   "metadata": {},
   "outputs": [],
   "source": [
    "df_train_4 = df_train_4.fillna(0)\n",
    "df_val_4 = df_val_4.fillna(0)"
   ]
  },
  {
   "cell_type": "code",
   "execution_count": 86,
   "id": "4a7e85f4-d35d-4d06-aa43-6b110598c76e",
   "metadata": {},
   "outputs": [],
   "source": [
    "X_train_4 = df_train_4[base].values\n",
    "y_train_4 = df_train_4.final_price.values\n",
    "\n",
    "X_val_4 = df_val_4[base].values\n",
    "y_val_4 = df_val_4.final_price.values"
   ]
  },
  {
   "cell_type": "code",
   "execution_count": 87,
   "id": "fc143314-2591-4738-abb0-645e4b7bf67e",
   "metadata": {},
   "outputs": [
    {
     "name": "stdout",
     "output_type": "stream",
     "text": [
      "r = 0, w0 = 676.8954853003689, RMSE = 597.36\n",
      "r = 0.01, w0 = 676.2736817205739, RMSE = 597.36\n",
      "r = 0.1, w0 = 670.7284836312828, RMSE = 597.35\n",
      "r = 1, w0 = 619.9030834107573, RMSE = 597.21\n",
      "r = 5, w0 = 463.7771697141752, RMSE = 597.01\n",
      "r = 10, w0 = 352.7971336767456, RMSE = 597.06\n",
      "r = 100, w0 = 66.92071440179805, RMSE = 597.9\n"
     ]
    }
   ],
   "source": [
    "for r in [0, 0.01, 0.1, 1, 5, 10, 100]:\n",
    "    w0_4, w_4 = train_linear_regression_reg(X_train_4, y_train_4, r=r)\n",
    "\n",
    "    y_pred_4 = w0_4 + X_val_4.dot(w_4)\n",
    "    score_4 = rmse(y_val_4, y_pred_4)\n",
    "    \n",
    "    #print(r, w0, round(score, 2))\n",
    "    print(\"r = {}, w0 = {}, RMSE = {}\".format(r, w0_4, round(score_4, 2)))"
   ]
  },
  {
   "cell_type": "raw",
   "id": "2c8ed719-a350-4b61-9373-eb68a0a96c8d",
   "metadata": {},
   "source": [
    "Answer: r=5 gives the best RMSE"
   ]
  },
  {
   "cell_type": "markdown",
   "id": "20293546-e538-4bd2-9e9c-9dcf077b8598",
   "metadata": {},
   "source": [
    "Question 5\n",
    "* We used seed 42 for splitting the data. Let's find out how selecting the seed influences our score.\n",
    "* Try different seed values: [0, 1, 2, 3, 4, 5, 6, 7, 8, 9].\n",
    "* For each seed, do the train/validation/test split with 60%/20%/20% distribution.\n",
    "* Fill the missing values with 0 and train a model without regularization.\n",
    "* For each seed, evaluate the model on the validation dataset and collect the RMSE scores.\n",
    "* What's the standard deviation of all the scores? To compute the standard deviation, use np.std.\n",
    "* Round the result to 3 decimal digits (round(std, 3))\n",
    "\n",
    "What's the value of std?"
   ]
  },
  {
   "cell_type": "code",
   "execution_count": 191,
   "id": "ee66a094-b3dc-4695-bdab-13c4b696821a",
   "metadata": {},
   "outputs": [],
   "source": [
    "n = len(df)\n",
    "\n",
    "n_val = int(n * 0.2)\n",
    "n_test = int(n * 0.2)\n",
    "n_train = n - n_val - n_test"
   ]
  },
  {
   "cell_type": "code",
   "execution_count": 88,
   "id": "b4e19739-7496-478a-be30-a91bb1b122d8",
   "metadata": {},
   "outputs": [
    {
     "name": "stdout",
     "output_type": "stream",
     "text": [
      "0 565.4520868771004\n",
      "1 636.798542305673\n",
      "2 588.9558697907955\n",
      "3 597.8148920012511\n",
      "4 571.9627915111033\n",
      "5 573.2383256618967\n",
      "6 647.3438328407198\n",
      "7 550.4398184485973\n",
      "8 587.3335036169941\n",
      "9 576.1017929433127\n"
     ]
    }
   ],
   "source": [
    "scores = []\n",
    "\n",
    "for s in [0, 1, 2, 3, 4, 5, 6, 7, 8, 9]:\n",
    "    idx = np.arange(n)    \n",
    "    np.random.seed(s)\n",
    "    np.random.shuffle(idx)\n",
    "\n",
    "    df_train = df.iloc[idx[:n_train]].reset_index(drop=True)\n",
    "    df_val = df.iloc[idx[n_train:n_train+n_val]].reset_index(drop=True)\n",
    "    df_test = df.iloc[idx[n_train+n_val:]].reset_index(drop=True)\n",
    "\n",
    "    df_train = df_train.fillna(0)\n",
    "    df_val = df_val.fillna(0)\n",
    "    df_test = df_test.fillna(0)\n",
    "\n",
    "    X_train = df_train[base].values\n",
    "    y_train = df_train.final_price.values\n",
    "    w0, w = train_linear_regression(X_train, y_train)\n",
    "    #y_pred = w0 + X_train.dot(w)\n",
    "    \n",
    "    X_val = df_val[base].values\n",
    "    y_val = df_val.final_price.values\n",
    "    y_pred = w0 + X_val.dot(w)\n",
    "    rmse(y_val, y_pred)\n",
    "    print(s, rmse(y_val, y_pred))\n",
    "\n",
    "    scores.append(rmse(y_val, y_pred))"
   ]
  },
  {
   "cell_type": "code",
   "execution_count": 89,
   "id": "f76fa41a-4b91-4735-b314-b8278c44577a",
   "metadata": {},
   "outputs": [
    {
     "data": {
      "text/plain": [
       "29.176491258292177"
      ]
     },
     "execution_count": 89,
     "metadata": {},
     "output_type": "execute_result"
    }
   ],
   "source": [
    "np.std(scores)"
   ]
  },
  {
   "cell_type": "code",
   "execution_count": 90,
   "id": "3f94a385-ebab-48d2-854e-91d62495baf7",
   "metadata": {},
   "outputs": [
    {
     "data": {
      "text/plain": [
       "29.176"
      ]
     },
     "execution_count": 90,
     "metadata": {},
     "output_type": "execute_result"
    }
   ],
   "source": [
    "# Answer:\n",
    "round(np.std(scores), 3)"
   ]
  },
  {
   "cell_type": "raw",
   "id": "3b657003-76ba-49d8-8c08-4dffe5f9c51f",
   "metadata": {},
   "source": [
    "Note: Standard deviation shows how different the values are. If it's low, then all values are approximately the same. If it's high, the values are different. If standard deviation of scores is low, then our model is stable."
   ]
  },
  {
   "cell_type": "markdown",
   "id": "8cb2c0d0-47f3-47e5-9bf7-687335dd8310",
   "metadata": {},
   "source": [
    "Question 6\n",
    "* Split the dataset like previously, use seed 9.\n",
    "* Combine train and validation datasets.\n",
    "* Fill the missing values with 0 and train a model with r=0.001.\n",
    "* What's the RMSE on the test dataset?"
   ]
  },
  {
   "cell_type": "code",
   "execution_count": 91,
   "id": "75b9c6ec-42ad-460b-a104-00e456855711",
   "metadata": {},
   "outputs": [],
   "source": [
    "idx = np.arange(n)    \n",
    "np.random.seed(9)\n",
    "np.random.shuffle(idx)\n",
    "\n",
    "df_train = df.iloc[idx[:n_train]].reset_index(drop=True)\n",
    "df_val = df.iloc[idx[n_train:n_train+n_val]].reset_index(drop=True)\n",
    "df_test = df.iloc[idx[n_train+n_val:]].reset_index(drop=True)\n",
    "\n",
    "df_full_train = pd.concat([df_train, df_val]).reset_index(drop=True)\n",
    "\n",
    "df_full_train = df_full_train.fillna(0)\n",
    "df_test = df_test.fillna(0)"
   ]
  },
  {
   "cell_type": "code",
   "execution_count": 92,
   "id": "5899c2ae-611c-4db3-ac09-1783184285ac",
   "metadata": {},
   "outputs": [],
   "source": [
    "X_full_train = df_full_train[base].values\n",
    "y_full_train = df_full_train.final_price.values\n",
    "\n",
    "w0, w = train_linear_regression_reg(X_full_train, y_full_train, r=0.001)"
   ]
  },
  {
   "cell_type": "code",
   "execution_count": 93,
   "id": "63395753-c5df-4e98-bc2b-d44e30f88d20",
   "metadata": {},
   "outputs": [
    {
     "data": {
      "text/plain": [
       "608.6099822049564"
      ]
     },
     "execution_count": 93,
     "metadata": {},
     "output_type": "execute_result"
    }
   ],
   "source": [
    "X_test = df_test[base].values\n",
    "y_test = df_test.final_price.values\n",
    "\n",
    "y_pred = w0 + X_test.dot(w)\n",
    "score = rmse(y_test, y_pred)\n",
    "score"
   ]
  },
  {
   "cell_type": "code",
   "execution_count": 94,
   "id": "1df770c7-eb51-4694-ad75-e1005eb06d87",
   "metadata": {},
   "outputs": [
    {
     "data": {
      "text/plain": [
       "608.61"
      ]
     },
     "execution_count": 94,
     "metadata": {},
     "output_type": "execute_result"
    }
   ],
   "source": [
    "# Answer:\n",
    "round(score, 2)"
   ]
  },
  {
   "cell_type": "code",
   "execution_count": null,
   "id": "94d71c61-f89d-46cf-bc4b-e1373637dfe4",
   "metadata": {},
   "outputs": [],
   "source": []
  }
 ],
 "metadata": {
  "kernelspec": {
   "display_name": "Python 3 (ipykernel)",
   "language": "python",
   "name": "python3"
  },
  "language_info": {
   "codemirror_mode": {
    "name": "ipython",
    "version": 3
   },
   "file_extension": ".py",
   "mimetype": "text/x-python",
   "name": "python",
   "nbconvert_exporter": "python",
   "pygments_lexer": "ipython3",
   "version": "3.9.6"
  }
 },
 "nbformat": 4,
 "nbformat_minor": 5
}
